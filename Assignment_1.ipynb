{
  "nbformat": 4,
  "nbformat_minor": 0,
  "metadata": {
    "colab": {
      "name": "Assignment_1.ipynb",
      "provenance": [],
      "collapsed_sections": []
    },
    "kernelspec": {
      "name": "python3",
      "display_name": "Python 3"
    },
    "language_info": {
      "name": "python"
    }
  },
  "cells": [
    {
      "cell_type": "markdown",
      "source": [
        "# Question 1"
      ],
      "metadata": {
        "id": "KqM-s4nQ7ZwX"
      }
    },
    {
      "cell_type": "code",
      "execution_count": 1,
      "metadata": {
        "id": "v2E-gjZW7Xv-"
      },
      "outputs": [],
      "source": [
        "def kinPlcalB(n=30):\n",
        "  '''\n",
        "  Function to print text depedning on the value of the number n\n",
        "\n",
        "  Parameters\n",
        "  -------\n",
        "  n   float, default = 30\n",
        "\n",
        "  Returns\n",
        "  -------\n",
        "  None\n",
        "  '''\n",
        "  text = ''\n",
        "  if n%3 == 0:\n",
        "    text+='Black'\n",
        "  if n%5 == 0:\n",
        "    text+='Pink'\n",
        "  if n%2 == 0:\n",
        "    text = text[::-1]\n",
        "\n",
        "  print(text)\n",
        "  \n",
        "  return None"
      ]
    },
    {
      "cell_type": "code",
      "source": [
        "kinPlcalB(3)\n",
        "kinPlcalB(5)\n",
        "kinPlcalB(15)\n",
        "kinPlcalB(30)\n",
        "kinPlcalB(7)"
      ],
      "metadata": {
        "colab": {
          "base_uri": "https://localhost:8080/"
        },
        "id": "3HpMoSbH8SbY",
        "outputId": "babbef42-23cd-4cee-ae0b-72d441a03439"
      },
      "execution_count": 2,
      "outputs": [
        {
          "output_type": "stream",
          "name": "stdout",
          "text": [
            "Black\n",
            "Pink\n",
            "BlackPink\n",
            "kniPkcalB\n",
            "\n"
          ]
        }
      ]
    },
    {
      "cell_type": "markdown",
      "source": [
        "# Question 2"
      ],
      "metadata": {
        "id": "vDlDR4oD8qfL"
      }
    },
    {
      "cell_type": "code",
      "source": [
        "# 2.1\n",
        "myNumbers = []"
      ],
      "metadata": {
        "id": "BQ96Oy3_8qKG"
      },
      "execution_count": 3,
      "outputs": []
    },
    {
      "cell_type": "code",
      "source": [
        "# 2.2\n",
        "x = ''\n",
        "while x!='*':\n",
        "  x = input('Input number, to stop enter *')"
      ],
      "metadata": {
        "colab": {
          "base_uri": "https://localhost:8080/"
        },
        "id": "lfQgRnJP8kVd",
        "outputId": "cd0ad56c-89ed-45e7-ef91-58374210f07f"
      },
      "execution_count": 4,
      "outputs": [
        {
          "name": "stdout",
          "output_type": "stream",
          "text": [
            "Input number, to stop enter *2\n",
            "Input number, to stop enter *3\n",
            "Input number, to stop enter *4\n",
            "Input number, to stop enter *3\n",
            "Input number, to stop enter *-5\n",
            "Input number, to stop enter *2.2\n",
            "Input number, to stop enter **\n"
          ]
        }
      ]
    },
    {
      "cell_type": "code",
      "source": [
        "# 2.3\n",
        "myNumbers = []\n",
        "\n",
        "x = ''\n",
        "while x!='*':\n",
        "  x = input('Input number, to stop enter *')\n",
        "  print(type(x))\n",
        "  myNumbers.append(float(x)) #Error occurs when * is input\n"
      ],
      "metadata": {
        "colab": {
          "base_uri": "https://localhost:8080/",
          "height": 374
        },
        "id": "rhdj_8Rf9L2W",
        "outputId": "b65f1ad8-4c0d-47c5-b79d-9d22d6b98926"
      },
      "execution_count": 5,
      "outputs": [
        {
          "output_type": "stream",
          "name": "stdout",
          "text": [
            "Input number, to stop enter *2\n",
            "<class 'str'>\n",
            "Input number, to stop enter *3\n",
            "<class 'str'>\n",
            "Input number, to stop enter *2.2\n",
            "<class 'str'>\n",
            "Input number, to stop enter *-2\n",
            "<class 'str'>\n",
            "Input number, to stop enter **\n",
            "<class 'str'>\n"
          ]
        },
        {
          "output_type": "error",
          "ename": "ValueError",
          "evalue": "ignored",
          "traceback": [
            "\u001b[0;31m---------------------------------------------------------------------------\u001b[0m",
            "\u001b[0;31mValueError\u001b[0m                                Traceback (most recent call last)",
            "\u001b[0;32m<ipython-input-5-ffdc73f02d5e>\u001b[0m in \u001b[0;36m<module>\u001b[0;34m()\u001b[0m\n\u001b[1;32m      6\u001b[0m   \u001b[0mx\u001b[0m \u001b[0;34m=\u001b[0m \u001b[0minput\u001b[0m\u001b[0;34m(\u001b[0m\u001b[0;34m'Input number, to stop enter *'\u001b[0m\u001b[0;34m)\u001b[0m\u001b[0;34m\u001b[0m\u001b[0;34m\u001b[0m\u001b[0m\n\u001b[1;32m      7\u001b[0m   \u001b[0mprint\u001b[0m\u001b[0;34m(\u001b[0m\u001b[0mtype\u001b[0m\u001b[0;34m(\u001b[0m\u001b[0mx\u001b[0m\u001b[0;34m)\u001b[0m\u001b[0;34m)\u001b[0m\u001b[0;34m\u001b[0m\u001b[0;34m\u001b[0m\u001b[0m\n\u001b[0;32m----> 8\u001b[0;31m   \u001b[0mmyNumbers\u001b[0m\u001b[0;34m.\u001b[0m\u001b[0mappend\u001b[0m\u001b[0;34m(\u001b[0m\u001b[0mfloat\u001b[0m\u001b[0;34m(\u001b[0m\u001b[0mx\u001b[0m\u001b[0;34m)\u001b[0m\u001b[0;34m)\u001b[0m\u001b[0;34m\u001b[0m\u001b[0;34m\u001b[0m\u001b[0m\n\u001b[0m",
            "\u001b[0;31mValueError\u001b[0m: could not convert string to float: '*'"
          ]
        }
      ]
    },
    {
      "cell_type": "code",
      "source": [
        "# 2.4\n",
        "def is_float( element ):\n",
        "  '''\n",
        "  Function to test if an input \"element\" can be converted to a float. \n",
        "  Function returns true if this can be done, and false if we will encounter and error\n",
        "  '''\n",
        "  try :\n",
        "    float ( element )\n",
        "    return True\n",
        "  except ValueError :\n",
        "    return False"
      ],
      "metadata": {
        "id": "1lrKuqUa9gHs"
      },
      "execution_count": 7,
      "outputs": []
    },
    {
      "cell_type": "code",
      "source": [
        "print('Can the text 10 be converted to float:',is_float('10'))"
      ],
      "metadata": {
        "colab": {
          "base_uri": "https://localhost:8080/"
        },
        "id": "390zTbbd-ELG",
        "outputId": "67dc36a5-7c8b-4601-f41d-2529b8585275"
      },
      "execution_count": 8,
      "outputs": [
        {
          "output_type": "stream",
          "name": "stdout",
          "text": [
            "Can the text 10 be converted to float: True\n"
          ]
        }
      ]
    },
    {
      "cell_type": "code",
      "source": [
        "print('Can the word cat be converted to float:',is_float('cat'))"
      ],
      "metadata": {
        "colab": {
          "base_uri": "https://localhost:8080/"
        },
        "id": "s8ShrmVV98OD",
        "outputId": "71282d26-8d06-465c-c24d-6c792e8a73ff"
      },
      "execution_count": 9,
      "outputs": [
        {
          "output_type": "stream",
          "name": "stdout",
          "text": [
            "Can the word cat be converted to float: False\n"
          ]
        }
      ]
    },
    {
      "cell_type": "code",
      "source": [
        "# 2.5\n",
        "myNumbers = []\n",
        "\n",
        "x = ''\n",
        "while x!='*':\n",
        "  x = input('Input number, to stop enter *')\n",
        "  if is_float(x):\n",
        "    myNumbers.append(float(x))\n",
        "  elif x!='*':\n",
        "    #Optional text print\n",
        "    print('Not a valid number')"
      ],
      "metadata": {
        "colab": {
          "base_uri": "https://localhost:8080/"
        },
        "id": "RMsZeFZ5-Cx0",
        "outputId": "7c58da54-743d-488a-a4f0-2ba7ea1bb0bc"
      },
      "execution_count": 10,
      "outputs": [
        {
          "name": "stdout",
          "output_type": "stream",
          "text": [
            "Input number, to stop enter *2\n",
            "Input number, to stop enter *4\n",
            "Input number, to stop enter *3\n",
            "Input number, to stop enter *-3\n",
            "Input number, to stop enter *-2\n",
            "Input number, to stop enter *0\n",
            "Input number, to stop enter *0.2\n",
            "Input number, to stop enter *0.7\n",
            "Input number, to stop enter *4\n",
            "Input number, to stop enter *2\n",
            "Input number, to stop enter *-3\n",
            "Input number, to stop enter *cat\n",
            "Not a valid number\n",
            "Input number, to stop enter *hello\n",
            "Not a valid number\n",
            "Input number, to stop enter *-3\n",
            "Input number, to stop enter *-2\n",
            "Input number, to stop enter *0.3\n",
            "Input number, to stop enter **\n"
          ]
        }
      ]
    },
    {
      "cell_type": "code",
      "source": [
        "import numpy as np\n",
        "\n",
        "print('Mean:',np.mean(myNumbers))\n",
        "print('Median:',np.median(myNumbers))\n",
        "print('Standard deviation:',np.std(myNumbers))"
      ],
      "metadata": {
        "colab": {
          "base_uri": "https://localhost:8080/"
        },
        "id": "ut2jElyb-oeA",
        "outputId": "ab119fcf-ed9e-4f8c-e3e1-b1bf4bee825a"
      },
      "execution_count": 11,
      "outputs": [
        {
          "output_type": "stream",
          "name": "stdout",
          "text": [
            "Mean: 0.2285714285714286\n",
            "Median: 0.25\n",
            "Standard deviation: 2.4478645420706044\n"
          ]
        }
      ]
    },
    {
      "cell_type": "code",
      "source": [
        "import matplotlib.pyplot as plt\n",
        "\n",
        "plt.hist(myNumbers)\n",
        "plt.xlabel('Numbers')\n",
        "plt.ylabel('Frequency');"
      ],
      "metadata": {
        "colab": {
          "base_uri": "https://localhost:8080/",
          "height": 279
        },
        "id": "xOXp-XFC_USE",
        "outputId": "293b4ade-c584-4039-8417-649cc92dd529"
      },
      "execution_count": 12,
      "outputs": [
        {
          "output_type": "display_data",
          "data": {
            "text/plain": [
              "<Figure size 432x288 with 1 Axes>"
            ],
            "image/png": "[encoded data removed]"
          },
          "metadata": {
            "needs_background": "light"
          }
        }
      ]
    },
    {
      "cell_type": "markdown",
      "source": [
        "# Question 3"
      ],
      "metadata": {
        "id": "Tohaea46-Ofu"
      }
    },
    {
      "cell_type": "code",
      "source": [
        "# 3.1\n",
        "debtFund_0 = 100000\n",
        "monthlyRepayment = [1000,2000,3000,4000]\n",
        "interestRate = 0.065\n",
        "years = 5\n",
        "\n",
        "debtFund = []\n",
        "for m_r in monthlyRepayment:\n",
        "  temp = [debtFund_0]\n",
        "  for i in range(years*12):\n",
        "     temp.append((temp[-1] - m_r)*(1+interestRate/12))\n",
        "  debtFund.append(temp)\n",
        "\n",
        "for i in range(len(debtFund)):\n",
        "  plt.plot(debtFund[i], label = 'R'+str(monthlyRepayment[i]))\n",
        "\n",
        "plt.xlabel('number of months')\n",
        "plt.ylabel('Debt')\n",
        "plt.ylim(0,debtFund_0)\n",
        "plt.xlim(0,years*12)\n",
        "plt.legend();"
      ],
      "metadata": {
        "colab": {
          "base_uri": "https://localhost:8080/",
          "height": 283
        },
        "id": "_ntdJMw-_w0j",
        "outputId": "33a1cf6e-366b-4211-8d09-e5d74f514f74"
      },
      "execution_count": 13,
      "outputs": [
        {
          "output_type": "display_data",
          "data": {
            "text/plain": [
              "<Figure size 432x288 with 1 Axes>"
            ],
            "image/png": "[encoded data removed]"
          },
          "metadata": {
            "needs_background": "light"
          }
        }
      ]
    },
    {
      "cell_type": "code",
      "source": [
        "# 3.2\n",
        "debtFund_0 = 100000\n",
        "monthlyRepayment = [1000,2000,3000,4000]\n",
        "interestRate = 0.065\n",
        "\n",
        "for m_r in monthlyRepayment:\n",
        "  t = 0\n",
        "  debt = debtFund_0\n",
        "  while debt > 0:\n",
        "    debt = debt - m_r\n",
        "    debt = debt*(1+interestRate/12)\n",
        "    t+=1\n",
        "  print(\"Repayment in\",t//12,'years and',t%12,'months if monthly repayment is R',m_r)"
      ],
      "metadata": {
        "colab": {
          "base_uri": "https://localhost:8080/"
        },
        "id": "GkF2Tmw7_46t",
        "outputId": "410af1e2-6177-46a3-fad0-5952dea74561"
      },
      "execution_count": 14,
      "outputs": [
        {
          "output_type": "stream",
          "name": "stdout",
          "text": [
            "Repayment in 12 years and 0 months if monthly repayment is R 1000\n",
            "Repayment in 4 years and 11 months if monthly repayment is R 2000\n",
            "Repayment in 3 years and 1 months if monthly repayment is R 3000\n",
            "Repayment in 2 years and 3 months if monthly repayment is R 4000\n"
          ]
        }
      ]
    },
    {
      "cell_type": "code",
      "source": [
        "# 3.3\n",
        "debtFund_0 = 100000\n",
        "monthlyRepayment = [200] \n",
        "interestRate = 0.065\n",
        "\n",
        "for m_r in monthlyRepayment:\n",
        "  t = 0\n",
        "  debt = debtFund_0\n",
        "  if m_r < interestRate/12*debt:\n",
        "    print('Debt will never be paid if monthly repayment is R',m_r)\n",
        "  else:\n",
        "    while debt > 0:\n",
        "      debt = debt - m_r\n",
        "      debt = debt*(1+interestRate/12)\n",
        "      t+=1\n",
        "    print(\"Repayment in\",t//12,'years and',t%12,'months if monthly repayment is R',m_r)"
      ],
      "metadata": {
        "colab": {
          "base_uri": "https://localhost:8080/"
        },
        "id": "VQpDZnroAGwp",
        "outputId": "bd0bfbc3-b1a6-49b6-ec1f-011cd3e9f9e4"
      },
      "execution_count": 17,
      "outputs": [
        {
          "output_type": "stream",
          "name": "stdout",
          "text": [
            "Debt will never be paid if monthly repayment is R 200\n"
          ]
        }
      ]
    },
    {
      "cell_type": "markdown",
      "source": [
        "# Question 4\n",
        "\n",
        "The pixel colour of the red band can be converted to text using the chr() function. If you load the image you will notice that certain pixels have colours of the form [interger,0,0]."
      ],
      "metadata": {
        "id": "6rTGTGeDAc2J"
      }
    },
    {
      "cell_type": "code",
      "source": [
        "superman = [83, 85, 80, 69, 82, 77, 65, 78]\n",
        "iron_man = [84, 72, 69, 95, 72, 85, 76, 75]\n",
        "the_hulk = [73, 82, 79, 78, 95, 77, 65, 78]\n",
        "deadpool =  [68, 69, 65, 68, 80, 79, 79, 76]\n",
        "\n",
        "\n",
        "heros_dec = [superman,the_hulk,iron_man, deadpool]\n",
        "heros_chr = []\n",
        "\n",
        "for h in heros_dec:\n",
        "  h_dec = []\n",
        "  for c in h:\n",
        "    h_dec.append(chr(c)) #ord()\n",
        "  heros_chr.append(h_dec)\n",
        "\n",
        "  print(h)\n",
        "  print(h_dec)\n",
        "  "
      ],
      "metadata": {
        "colab": {
          "base_uri": "https://localhost:8080/"
        },
        "id": "dUbuZfD1A8O7",
        "outputId": "2e3f9dc6-d05c-424f-accd-4be2992f7dc8"
      },
      "execution_count": 18,
      "outputs": [
        {
          "output_type": "stream",
          "name": "stdout",
          "text": [
            "[83, 85, 80, 69, 82, 77, 65, 78]\n",
            "['S', 'U', 'P', 'E', 'R', 'M', 'A', 'N']\n",
            "[73, 82, 79, 78, 95, 77, 65, 78]\n",
            "['I', 'R', 'O', 'N', '_', 'M', 'A', 'N']\n",
            "[84, 72, 69, 95, 72, 85, 76, 75]\n",
            "['T', 'H', 'E', '_', 'H', 'U', 'L', 'K']\n",
            "[68, 69, 65, 68, 80, 79, 79, 76]\n",
            "['D', 'E', 'A', 'D', 'P', 'O', 'O', 'L']\n"
          ]
        }
      ]
    },
    {
      "cell_type": "code",
      "source": [
        ""
      ],
      "metadata": {
        "id": "NGcMYH42BDI7"
      },
      "execution_count": null,
      "outputs": []
    }
  ]
}